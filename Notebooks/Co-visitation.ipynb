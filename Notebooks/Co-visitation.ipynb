{
 "cells": [
  {
   "cell_type": "markdown",
   "metadata": {},
   "source": [
    "### Parse and clean domains"
   ]
  },
  {
   "cell_type": "code",
   "execution_count": 1,
   "metadata": {},
   "outputs": [],
   "source": [
    "from pyspark.sql.functions import *\n",
    "from pyspark.sql.types import *\n",
    "import string\n",
    "import re\n",
    "from tld import get_tld\n",
    "WWW = re.compile('^www\\.')\n",
    "\n",
    "def parse_domain(domain) :\n",
    "    if not domain:\n",
    "        return domain\n",
    "    domain = domain.lower() # force lowercase to use binary collate in the db\n",
    "    # app ids come clean\n",
    "    if domain.isdigit():\n",
    "        return domain\n",
    "    if domain.startswith('com.'):\n",
    "        return domain.split('&',1)[0]\n",
    "    domain = ''.join(filter(string.printable.__contains__, domain)) # remove non printable characters\n",
    "    domain_cleaned = WWW.subn('',domain.replace('\"','').strip().split('//',1)[-1].split('/',1)[0],count=1)[0]\n",
    "    # return cleaned top level domain or discard\n",
    "    try:\n",
    "        return get_fld(\"http://\" + domain_cleaned )\n",
    "    except:\n",
    "        return domain_cleaned\n",
    "    \n",
    "udfParseDomain = udf(parse_domain, StringType())"
   ]
  },
  {
   "cell_type": "markdown",
   "metadata": {},
   "source": [
    "### Read file and filter null values"
   ]
  },
  {
   "cell_type": "code",
   "execution_count": 12,
   "metadata": {},
   "outputs": [],
   "source": [
    "logsSchema = StructType([StructField(\"ip\",StringType(),True),\n",
    "                     StructField(\"uuid\",StringType(),True),\n",
    "                     StructField(\"useragent\",StringType(),True),\n",
    "                     StructField(\"domain\",StringType(),True),\n",
    "                     StructField(\"ssp\",StringType(),True),\n",
    "                     StructField(\"timestamp\",TimestampType(),False)])\n",
    "\n",
    "df = (spark.read.csv(\"file:///srv-zompopo3/nameles/datasets/daily/171007/ssp_bid_compressed_00000000020{0,1,2,3,4,5}.csv.gz\", schema=logsSchema,\n",
    "                          header=\"true\", timestampFormat=\"yyyy-MM-dd HH:mm:ss\", escape='\"',\n",
    "                          ignoreLeadingWhiteSpace=\"true\", ignoreTrailingWhiteSpace=\"true\",\n",
    "                          mode=\"FAILFAST\")\n",
    "        .where(col(\"ip\").isNotNull())\n",
    "        .where(col(\"domain\").isNotNull())\n",
    "        .withColumn(\"domain\", udfParseDomain(\"domain\"))\n",
    "        )"
   ]
  },
  {
   "cell_type": "code",
   "execution_count": 13,
   "metadata": {},
   "outputs": [],
   "source": [
    "#Return domains and the number of different IPs that visit the domain\n",
    "def unique_tuples(df):\n",
    "    unique_df = df.drop_duplicates(subset=('domain', 'ip')).drop('timestamp', 'useragent', 'ssp', 'uuid')\n",
    "    unique_df = unique_df.groupby(['domain']).count()\n",
    "    unique_df = unique_df.orderBy(desc('count'))\n",
    "    return unique_df"
   ]
  },
  {
   "cell_type": "code",
   "execution_count": 14,
   "metadata": {},
   "outputs": [],
   "source": [
    "df_unique = unique_tuples(df)"
   ]
  },
  {
   "cell_type": "code",
   "execution_count": 15,
   "metadata": {},
   "outputs": [],
   "source": [
    "# count_tuples groups by domain and ip\n",
    "def count_tuples(df):\n",
    "    count_df = df.groupby(['domain', 'ip']).count()\n",
    "    return count_df\n",
    "\n",
    "\n",
    "# count_by_domain groups all visits a domain has\n",
    "def count_by_domain(df):\n",
    "    count_df = df.groupby(['domain']).count()\n",
    "    count_df = count_df.orderBy(desc(\"count\"))\n",
    "    return count_df\n",
    "\n",
    "\n",
    "# count_visits groups all visits by domain, differencing by IP\n",
    "def count_visits(df):\n",
    "    count_df = df.groupby(['domain']).pivot('ip').count()\n",
    "    return count_df"
   ]
  },
  {
   "cell_type": "code",
   "execution_count": 16,
   "metadata": {},
   "outputs": [],
   "source": [
    "df_tuples = count_tuples(df)\n",
    "df_domain = count_by_domain(df)"
   ]
  },
  {
   "cell_type": "markdown",
   "metadata": {},
   "source": [
    "### Co-visit rate\n",
    "Receives as parameters: dataframe, minimum rate of co-visit, minimum count of visitations in common, boolean value if it will use the unique dataframe (True) or the dataframe with common values (False)"
   ]
  },
  {
   "cell_type": "code",
   "execution_count": 17,
   "metadata": {},
   "outputs": [],
   "source": [
    "def covisit(input_df, rate, min_count, unique):\n",
    "    #Duplicate domain column to perform self-join\n",
    "    input2_df = input_df.withColumnRenamed('domain', 'domain2')\n",
    "    #joined_df = self-join to get all domain combinations with same ip\n",
    "    joined_df = (input_df.join(input2_df, 'ip', 'inner')\n",
    "                .where(input_df.domain != input2_df.domain2)\n",
    "                .drop('useragent', 'ssp', 'uuid')\n",
    "                # unique dataframe - TO DO: Test this works properly\n",
    "                .drop_duplicates(subset=('domain', 'domain2', 'ip')))\n",
    "                \n",
    "\n",
    "    #count ips that have visited both domains \n",
    "    count_df = (joined_df.groupBy(['domain', 'domain2']).count()\n",
    "                        .withColumnRenamed('count', 'covisit'))\n",
    "    count_df = count_df.where(count_df.covisit > 1)\n",
    "    \n",
    "    if (unique == False):\n",
    "        count_df = count_df.join(df_domain, 'domain', 'inner').withColumnRenamed('count', 'visits')\n",
    "    else:\n",
    "        count_df = count_df.join(df_unique, 'domain', 'inner').withColumnRenamed('count', 'visits')\n",
    "\n",
    "    #calculate covisitation rate\n",
    "    count_df = count_df.withColumn('covisit', col('covisit')/col('visits'))\n",
    "    \n",
    "    count_df = count_df.where(count_df.covisit > rate).where(count_df.visits > min_count)\n",
    "    count_df = count_df.drop('visits')\n",
    "    return count_df"
   ]
  },
  {
   "cell_type": "code",
   "execution_count": 18,
   "metadata": {},
   "outputs": [
    {
     "name": "stdout",
     "output_type": "stream",
     "text": [
      "+--------------------+--------------------+------------------+\n",
      "|              domain|             domain2|           covisit|\n",
      "+--------------------+--------------------+------------------+\n",
      "|        mastimon.com|com.jb.emoji.goke...|0.5925925925925926|\n",
      "|        gogoanime.tv|      dramameong.com|0.5063291139240507|\n",
      "|        m.meczyki.pl| sportowefakty.wp.pl|0.5121951219512195|\n",
      "|        m.meczyki.pl|          m.kwejk.pl|0.5121951219512195|\n",
      "|        m.meczyki.pl|               wp.pl|0.7317073170731707|\n",
      "|        m.meczyki.pl|              olx.pl|0.5609756097560976|\n",
      "| sigortahaber.com.tr| womenshealth.com.tr|0.5454545454545454|\n",
      "|          arslege.pl|              olx.pl|0.5161290322580645|\n",
      "|  finanzfernsehen.de|         yieldlab.de|0.5555555555555556|\n",
      "|        mylekarze.pl|               wp.pl|             0.625|\n",
      "|        mylekarze.pl| sportowefakty.wp.pl|             0.625|\n",
      "|        mylekarze.pl|              olx.pl|             0.625|\n",
      "|        mylekarze.pl|          pudelek.pl|             0.625|\n",
      "|photo-gallery.mob...|com.jiubang.faste...|0.5272045028142589|\n",
      "|photo-gallery.mob...|com.steam.photoed...|0.5234521575984991|\n",
      "|photo-gallery.mob...|  com.qihoo.security| 0.575984990619137|\n",
      "|photo-gallery.mob...|com.cleanmaster.m...| 0.600375234521576|\n",
      "|        x.heyzap.com|            minq.com|0.5714285714285714|\n",
      "|        x.heyzap.com|             cnn.com|0.5714285714285714|\n",
      "|        x.heyzap.com|com.digidust.elok...|0.5714285714285714|\n",
      "+--------------------+--------------------+------------------+\n",
      "only showing top 20 rows\n",
      "\n"
     ]
    }
   ],
   "source": [
    "rate_df = covisit(df, 0.5, 6, False)\n",
    "rate_dfshow()"
   ]
  },
  {
   "cell_type": "code",
   "execution_count": 21,
   "metadata": {},
   "outputs": [
    {
     "name": "stdout",
     "output_type": "stream",
     "text": [
      "+--------------------+--------------------+------------------+\n",
      "|              domain|             domain2|           covisit|\n",
      "+--------------------+--------------------+------------------+\n",
      "|      dom2reality.ru|           drive2.ru|               1.0|\n",
      "|      dom2reality.ru|            avito.ru|               1.0|\n",
      "|      dom2reality.ru|com.cleanmaster.m...|               1.0|\n",
      "| sportsexcellent.net|com.juteralabs.pe...|               1.0|\n",
      "|           506795511|               wp.pl|               1.0|\n",
      "|      dom2reality.ru|org.aastudio.game...|               1.0|\n",
      "|      dom2reality.ru|com.cleanmaster.s...|               1.0|\n",
      "|surabaya.tribunne...|com.jb.emoji.goke...|               1.0|\n",
      "|   tradisikita.my.id|com.jb.emoji.goke...|               0.9|\n",
      "|        otorider.com|com.jb.emoji.goke...|               0.9|\n",
      "|  gazetka-oferta.com|               wp.pl|0.8888888888888888|\n",
      "|      koreanindo.net|com.jb.emoji.goke...|0.8888888888888888|\n",
      "|   m.cosmopolitan.pl|          pudelek.pl|0.8888888888888888|\n",
      "|dreevee312.neogam...|      adm.shinobi.jp|             0.875|\n",
      "|       mniammniam.pl|               wp.pl|             0.875|\n",
      "|com.merigotech.fi...|ru.litres.android...|0.8666666666666667|\n",
      "|com.merigotech.fi...|com.cleanmaster.m...|0.8666666666666667|\n",
      "|      dom2reality.ru|com.jewels.gems.a...|0.8571428571428571|\n",
      "|      dom2reality.ru|com.surpax.ledfla...|0.8571428571428571|\n",
      "|      dom2reality.ru|  com.qihoo.security|0.8571428571428571|\n",
      "+--------------------+--------------------+------------------+\n",
      "only showing top 20 rows\n",
      "\n"
     ]
    }
   ],
   "source": [
    "rate_df.orderBy(desc(\"covisit\")).show()"
   ]
  },
  {
   "cell_type": "code",
   "execution_count": null,
   "metadata": {},
   "outputs": [],
   "source": []
  },
  {
   "cell_type": "code",
   "execution_count": null,
   "metadata": {},
   "outputs": [],
   "source": []
  }
 ],
 "metadata": {
  "kernelspec": {
   "display_name": "pySpark 2.4",
   "language": "python",
   "name": "pyspark"
  },
  "language_info": {
   "codemirror_mode": {
    "name": "ipython",
    "version": 3
   },
   "file_extension": ".py",
   "mimetype": "text/x-python",
   "name": "python",
   "nbconvert_exporter": "python",
   "pygments_lexer": "ipython3",
   "version": "3.5.3"
  }
 },
 "nbformat": 4,
 "nbformat_minor": 2
}
